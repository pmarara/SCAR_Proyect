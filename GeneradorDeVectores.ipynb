{
 "cells": [
  {
   "cell_type": "code",
   "execution_count": 18,
   "metadata": {},
   "outputs": [
    {
     "name": "stdout",
     "output_type": "stream",
     "text": [
      "El procesamiento ha finalizado y los resultados están en 'user_types_assigned.txt'\n"
     ]
    }
   ],
   "source": [
    "import csv\n",
    "\n",
    "# Función para cargar tipos de usuario desde el archivo\n",
    "def load_user_types(filepath):\n",
    "    types = []\n",
    "    with open(filepath, 'r', newline='') as file:\n",
    "        reader = csv.reader(file, delimiter='\\t')\n",
    "        next(reader)  # Omitir encabezados\n",
    "        for row in reader:\n",
    "            types.append({\n",
    "                'tipo': row[0],\n",
    "                'edad_min': int(row[1]),\n",
    "                'edad_max': int(row[2]),\n",
    "                'sexo': row[3].lower(),  # Asegurarse de que todo está en minúsculas para la comparación\n",
    "                'profesion': row[4].lower()  # Asegurarse de que todo está en minúsculas para la comparación\n",
    "            })\n",
    "    return types\n",
    "\n",
    "# Profesiones agrupadas\n",
    "professions = {\n",
    "    'c': ['artist', 'writer', 'entertainment', 'educator', 'librarian'],\n",
    "    'b': ['executive', 'administrator', 'salesman', 'marketing', 'lawyer'],\n",
    "    'm': ['doctor', 'healthcare', 'scientist'],\n",
    "    't': ['technician', 'programmer', 'engineer'],\n",
    "    'o': ['student', 'none', 'other', 'homemaker', 'retired']\n",
    "}\n",
    "\n",
    "# Función para determinar el tipo de usuario\n",
    "def determine_user_type(age, sex, profession, types):\n",
    "    for type_info in types:\n",
    "        # Verifica edad\n",
    "        if type_info['edad_min'] <= age <= type_info['edad_max']:\n",
    "            # Verifica sexo\n",
    "            if type_info['sexo'] == 'x' or type_info['sexo'] == sex:\n",
    "                # Verifica profesión\n",
    "                if type_info['profesion'] == 'x' or profession in professions.get(type_info['profesion'], []):\n",
    "                    return type_info['tipo']\n",
    "    return 'No type found'\n",
    "\n",
    "# Cargar tipos de usuario\n",
    "user_types = load_user_types('data/user_types.txt')\n",
    "\n",
    "# Leer la información de los usuarios y determinar su tipo\n",
    "results = []\n",
    "with open('data/users.txt', 'r', newline='') as file:\n",
    "    reader = csv.reader(file, delimiter='\\t')\n",
    "    for row in reader:\n",
    "        user_id = row[0]\n",
    "        age = int(row[1])\n",
    "        sex = row[2].lower()  # Asegurarse de que todo está en minúsculas para la comparación\n",
    "        profession = row[3].lower()  # Asegurarse de que todo está en minúsculas para la comparación\n",
    "        user_type = determine_user_type(age, sex, profession, user_types)\n",
    "        results.append([user_id, user_type])\n",
    "\n",
    "# Escribir los resultados en un nuevo archivo\n",
    "with open('data/user_types_assigned.txt', 'w', newline='') as file:\n",
    "    writer = csv.writer(file, delimiter='\\t')\n",
    "    writer.writerow(['UserID', 'Type'])\n",
    "    writer.writerows(results)\n",
    "\n",
    "print(\"El procesamiento ha finalizado y los resultados están en 'user_types_assigned.txt'\")\n"
   ]
  }
 ],
 "metadata": {
  "kernelspec": {
   "display_name": "Python 3",
   "language": "python",
   "name": "python3"
  },
  "language_info": {
   "codemirror_mode": {
    "name": "ipython",
    "version": 3
   },
   "file_extension": ".py",
   "mimetype": "text/x-python",
   "name": "python",
   "nbconvert_exporter": "python",
   "pygments_lexer": "ipython3",
   "version": "3.9.13"
  }
 },
 "nbformat": 4,
 "nbformat_minor": 2
}
