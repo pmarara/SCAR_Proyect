{
 "cells": [
  {
   "cell_type": "code",
   "execution_count": 13,
   "metadata": {},
   "outputs": [],
   "source": [
    "import pandas as pd\n",
    "\n",
    "class Genre:\n",
    "    def __init__(self, genre_id, genre_name):\n",
    "        self.genre_id = genre_id\n",
    "        self.genre_name = genre_name\n",
    "\n",
    "class Movie:\n",
    "    def __init__(self, movie_id, genres, title_year):\n",
    "        self.movie_id = movie_id\n",
    "        self.genres = genres\n",
    "        self.title_year = title_year\n",
    "\n",
    "class User:\n",
    "    def __init__(self, user_id, age, gender, occupation):\n",
    "        self.user_id = user_id\n",
    "        self.age = age\n",
    "        self.gender = gender\n",
    "        self.occupation = occupation\n",
    "\n",
    "class Rating:\n",
    "    def __init__(self, user_id, movie_id, rating):\n",
    "        self.user_id = user_id\n",
    "        self.movie_id = movie_id\n",
    "        self.rating = rating\n",
    "\n",
    "# Cargar datos de genre.txt\n",
    "genre_data = pd.read_csv(\"genre.txt\", sep='\\t', names=['GenreID', 'GenreName'], encoding=\"utf-8\")\n",
    "genres = {row['GenreID']: Genre(row['GenreID'], row['GenreName']) for _, row in genre_data.iterrows()}\n",
    "\n",
    "# Cargar datos de items.txt\n",
    "items_data = pd.read_csv(\"items.txt\", sep='\\t', names=['MovieID'] + [f'Genre_{i}' for i in range(1, 20)] + ['TitleYear'], encoding=\"latin-1\")\n",
    "movies = {row['MovieID']: Movie(row['MovieID'], row.iloc[1:20], row['TitleYear']) for _, row in items_data.iterrows()}\n",
    "\n",
    "# Cargar datos de users.txt\n",
    "users_data = pd.read_csv(\"users.txt\", sep='\\t', names=['UserID', 'Age', 'Gender', 'Occupation'], encoding=\"utf-8\")\n",
    "users = {row['UserID']: User(row['UserID'], row['Age'], row['Gender'], row['Occupation']) for _, row in users_data.iterrows()}\n",
    "\n",
    "# Cargar datos de u1_base.txt\n",
    "ratings_data = pd.read_csv(\"u1_base.txt\", sep='\\t', names=['UserID', 'MovieID', 'Rating'], encoding=\"utf-8\")\n",
    "ratings = {(row['UserID'], row['MovieID']): Rating(row['UserID'], row['MovieID'], row['Rating']) for _, row in ratings_data.iterrows()}\n",
    "\n"
   ]
  },
  {
   "cell_type": "code",
   "execution_count": 15,
   "metadata": {},
   "outputs": [
    {
     "name": "stdout",
     "output_type": "stream",
     "text": [
      "La valoración del usuario 1 para la película 5 es: 3\n"
     ]
    }
   ],
   "source": [
    "# Ejemplo de búsqueda de valoración del usuario 4 para la película 5\n",
    "user_id_to_search = 1\n",
    "movie_id_to_search = 5\n",
    "\n",
    "rating_key = (user_id_to_search, movie_id_to_search)\n",
    "if rating_key in ratings:\n",
    "    rating_value = ratings[rating_key].rating\n",
    "    print(f\"La valoración del usuario {user_id_to_search} para la película {movie_id_to_search} es: {rating_value}\")\n",
    "else:\n",
    "    print(f\"No se encontró valoración para el usuario {user_id_to_search} y la película {movie_id_to_search}\")"
   ]
  }
 ],
 "metadata": {
  "kernelspec": {
   "display_name": "Python 3",
   "language": "python",
   "name": "python3"
  },
  "language_info": {
   "codemirror_mode": {
    "name": "ipython",
    "version": 3
   },
   "file_extension": ".py",
   "mimetype": "text/x-python",
   "name": "python",
   "nbconvert_exporter": "python",
   "pygments_lexer": "ipython3",
   "version": "3.9.13"
  }
 },
 "nbformat": 4,
 "nbformat_minor": 2
}
